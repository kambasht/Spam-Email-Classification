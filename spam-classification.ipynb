{
 "cells": [
  {
   "cell_type": "code",
   "execution_count": 1,
   "metadata": {
    "_cell_guid": "b1076dfc-b9ad-4769-8c92-a6c4dae69d19",
    "_uuid": "8f2839f25d086af736a60e9eeb907d3b93b6e0e5"
   },
   "outputs": [
    {
     "name": "stdout",
     "output_type": "stream",
     "text": [
      "/kaggle/input/spam-filter/emails.csv\n",
      "/kaggle/input/spam-filter/emails.csv\n",
      "[nltk_data] Downloading package punkt to /usr/share/nltk_data...\n",
      "[nltk_data]   Package punkt is already up-to-date!\n",
      "[nltk_data] Downloading package wordnet to /usr/share/nltk_data...\n",
      "[nltk_data]   Package wordnet is already up-to-date!\n",
      "[nltk_data] Downloading package stopwords to /usr/share/nltk_data...\n",
      "[nltk_data]   Package stopwords is already up-to-date!\n",
      "/kaggle/input/spam-filter/emails.csv\n"
     ]
    }
   ],
   "source": [
    "# This Python 3 environment comes with many helpful analytics libraries installed\n",
    "# It is defined by the kaggle/python docker image: https://github.com/kaggle/docker-python\n",
    "# For example, here's several helpful packages to load in \n",
    "\n",
    "import numpy as np # linear algebra\n",
    "import pandas as pd # data processing, CSV file I/O (e.g. pd.read_csv)\n",
    "import matplotlib.pyplot as plt\n",
    "import methods_py as m\n",
    "import re\n",
    "import sys,time\n",
    "\n",
    "# reload to make sure we have the latest version of method.py loaded\n",
    "import importlib\n",
    "importlib.reload(m)\n",
    "\n",
    "import nltk\n",
    "nltk.download(['punkt', 'wordnet','stopwords'])\n",
    "from nltk.corpus import stopwords\n",
    "from nltk.tokenize import word_tokenize\n",
    "from nltk.stem import WordNetLemmatizer\n",
    "\n",
    "from sklearn.pipeline import Pipeline\n",
    "from sklearn.ensemble import RandomForestClassifier\n",
    "from sklearn.neighbors import KNeighborsClassifier\n",
    "from sklearn.feature_extraction.text import CountVectorizer, TfidfTransformer\n",
    "from sklearn.svm import LinearSVC \n",
    "from sklearn.model_selection import train_test_split, GridSearchCV\n",
    "from sklearn.metrics import classification_report, plot_precision_recall_curve\n",
    "\n",
    "# Input data files are available in the \"../input/\" directory.\n",
    "# For example, running this (by clicking run or pressing Shift+Enter) will list all files under the input directory\n",
    "\n",
    "import os\n",
    "for dirname, _, filenames in os.walk('/kaggle/input'):\n",
    "    for filename in filenames:\n",
    "        print(os.path.join(dirname, filename))\n",
    "\n",
    "# Any results you write to the current directory are saved as output."
   ]
  },
  {
   "cell_type": "code",
   "execution_count": 2,
   "metadata": {
    "_cell_guid": "79c7e3d0-c299-4dcb-8224-4455121ee9b0",
    "_uuid": "d629ff2d2480ee46fbb7e2d37f6b5fab8052498a"
   },
   "outputs": [
    {
     "data": {
      "text/html": [
       "<div>\n",
       "<style scoped>\n",
       "    .dataframe tbody tr th:only-of-type {\n",
       "        vertical-align: middle;\n",
       "    }\n",
       "\n",
       "    .dataframe tbody tr th {\n",
       "        vertical-align: top;\n",
       "    }\n",
       "\n",
       "    .dataframe thead th {\n",
       "        text-align: right;\n",
       "    }\n",
       "</style>\n",
       "<table border=\"1\" class=\"dataframe\">\n",
       "  <thead>\n",
       "    <tr style=\"text-align: right;\">\n",
       "      <th></th>\n",
       "      <th>text</th>\n",
       "      <th>spam</th>\n",
       "    </tr>\n",
       "  </thead>\n",
       "  <tbody>\n",
       "    <tr>\n",
       "      <th>0</th>\n",
       "      <td>Subject: naturally irresistible your corporate...</td>\n",
       "      <td>1</td>\n",
       "    </tr>\n",
       "    <tr>\n",
       "      <th>1</th>\n",
       "      <td>Subject: the stock trading gunslinger  fanny i...</td>\n",
       "      <td>1</td>\n",
       "    </tr>\n",
       "    <tr>\n",
       "      <th>2</th>\n",
       "      <td>Subject: unbelievable new homes made easy  im ...</td>\n",
       "      <td>1</td>\n",
       "    </tr>\n",
       "    <tr>\n",
       "      <th>3</th>\n",
       "      <td>Subject: 4 color printing special  request add...</td>\n",
       "      <td>1</td>\n",
       "    </tr>\n",
       "    <tr>\n",
       "      <th>4</th>\n",
       "      <td>Subject: do not have money , get software cds ...</td>\n",
       "      <td>1</td>\n",
       "    </tr>\n",
       "  </tbody>\n",
       "</table>\n",
       "</div>"
      ],
      "text/plain": [
       "                                                text  spam\n",
       "0  Subject: naturally irresistible your corporate...     1\n",
       "1  Subject: the stock trading gunslinger  fanny i...     1\n",
       "2  Subject: unbelievable new homes made easy  im ...     1\n",
       "3  Subject: 4 color printing special  request add...     1\n",
       "4  Subject: do not have money , get software cds ...     1"
      ]
     },
     "execution_count": 2,
     "metadata": {},
     "output_type": "execute_result"
    }
   ],
   "source": [
    "df = pd.read_csv(\"/kaggle/input/spam-filter/emails.csv\")\n",
    "df.head()"
   ]
  },
  {
   "cell_type": "code",
   "execution_count": 3,
   "metadata": {},
   "outputs": [
    {
     "name": "stdout",
     "output_type": "stream",
     "text": [
      "The dataframe has  5728 rows and  2 columns \n",
      "\n",
      "There are  1 categorical columns and  1 numerical columns in the dataframe \n",
      "\n",
      "A list of all the categorical columns \n",
      "\n",
      "['text'] \n",
      "\n",
      "Total number of unique values for column  text is  5695 \n",
      "\n",
      "The first 10 unique values are [\"Subject:   http : / / www . virtu  ally - anywhere . com / sports /  hello ,  i was hoping you could help me . the link above takes  you to  several  facility stadiumtours created by virtually  anywhere  interactive . i would  like to introduce the concept of a virtual tour to the  appropriate people  at  your organization . ( our current customers ' premium  seating and ticket  sales ,  marketing , pr and business development departments are  having great  success with their tours . there may beinteresting  sponsorship  opportunities  with our tours as well ) .  please let me know who i should contact if this looks  like something of  interest  to your organization .  many thanks , davidp . s . you may have seen  us at the alsd  show in houston ( last year ) . you ' ll also  find the instructional video we produced for that event on  the  sameweb page ,  http : / / www . virtu  ally - anywhere . com / sports / .  david bole 512 - 479 - 8222 phonehttp : / / www . virtually - an  ywhere . comdavid @ vatour . com\", 'Subject: ! gorgeous , custom websites - $ 399 complete ! ( 4156 cumg 9 - 855 yqkc 5 @ 17 )  beautiful custom  websites , $ 399 complete !  get a beautiful , 100 % custom web site ( or  yours redesigned ) for only $ 399 ! * we  have references coast to coastand will give you  plenty of sites to  view !  includes up to 7 pages ( you can add  more ) , java rollover buttons , feedback forms , more . it  will be constructed to your taste and  specifications , we do not use templates .  our sites are completely  custom . * must host with us @  $ 19 . 95 / mo ( 100 megs , 20 email accounts , control panel ,  front page , graphical statistics ,  more ) .  for sites to view , complete below or call our  message center at 321 - 726 - 2209 ( 24 hours ) . your call  will be returned promptly . note : if  you are using a web based email program ( such as yahoo ,  hotmail , etc . ) the form below will not  work . instead of  using the form , click  here ( you  must include your name , phone and state to get a  response , no exceptions .  name : phone  w / ac * : state : type project : new  site : redesign current  site ? : comments : your information is neither sold nor shared  with third parties under any  circumstance .  to be eliminated from  future mailings , click  here  [ 6560 icum 3 - 199 gyqk 9350 cvph 2 - 701 z @ 29 ]', 'Subject: \"  content - type : text / plain ; charset = \" us - ascii \" ; format = flowed  content - transfer - encoding : 7 bit  subject : [ sa ] drive everywhere  sender : spamassassin - sightings - admin @ example . sourceforge . net  errors - to : spamassassin - sightings - admin @ example . sourceforge . net  x - beenthere : spamassassin - sightings @ example . sourceforge . net  x - mailman - version : 2 . 0 . 9 - sf . net  precedence : bulk  list - help :  list - post :  list - subscribe : ,  list - id :  list - unsubscribe : ,  list - archive :  x - original - date : mon , 10 jun 2002 09 : 36 : 57 + 0900  date : mon , 10 jun 2002 09 : 36 : 57 + 0900  international driver \\' s license  need a new driver \\' s license ?  too many points or other trouble ?  want a license that can never be suspended  or revoked ?  want an id for nightclubs or hotel check - in ?  avoid tickets , fines , and mandatory driver \\' s  education .  protect your privacy , and hide your identity .  the united nations gave you the privilege to  drive freely throughout the world ! ( convention  on international road traffic of september 19 ,  1949 & world court decision , the hague ,  netherlands , january 21 , 1958 )  take advantage of your rights . order a valid  international driver \\' s license that can never  be suspended or revoked .  confidentiality assured .  call now ! ! !  1 - 770 - 908 - 3949  we await your call seven days a week , 24 hours a day ,  including sundays and holidays .  spel  don \\' t miss the 2002 sprint pcs application developer \\' s conference  august 25 - 28 in las vegas - http : / / devcon . sprintpcs . com / adp / index . cfm ? source = osdntextlink  spamassassin - sightings mailing list ', 'Subject: \" enron day \" to be declared in spearman , texas  vince , f . y . i  - - - - - - - - - - - - - - - - - - - - - - forwarded by stinson gibner / hou / ect on 09 / 20 / 2000  02 : 28 pm - - - - - - - - - - - - - - - - - - - - - - - - - - -  stinson gibner  09 / 20 / 2000 02 : 28 pm  to : cindy olson / corp / enron @ enron  cc :  subject : \" enron day \" to be declared in spearman , texas  cindy ,  you may or may not remember that i sent a short note to you last may  outlining a fundraising effort for the hansford county library in spearman ,  texas . the community was challenged to raise $ 20 , 000 which i offered to  match 2 to 1 . with enron foundations employee match , this grows to a total  mathching ratio of $ 4 for every $ 1 raised by the community . ( of course ,  because of the $ 15 , 000 / year limit , i have to spread my gifts over several  years in order to get the total amount matched by enron . )  sherry benton , the librarian in spearman just called and gave me the great  news that the $ 20 , 000 in community donations has been achieved . in fact , i  expect that the total community number will come to almost $ 25 , 000 once all  of the donations are received .  in order to recognize our part in all this , the mayor of the town is planning  to declare october 17 th as \" stinson gibner and enron day \" in spearman , and  they would like to have some public ceremony to bestow this recognition .  there will be coverage by the local radio station and newspaper and ,  possibly , by the amarillo newspaper as well .  they are asking if a representative from enron ( other than myself ) would be  interested in coming to spearman for this event . please let me know if you  or anyone else would be interested in doing this . spearman is about a 90  minute drive north from the airport in amarillo , and it is possible to get  there and back to houston on the same day .  thanks ,  stinson gibner  x 34748  p . s . is there any possibility of getting a one time raise on the $ 15 , 000 / year  matching cap so that i can have $ 40 , 000 matched in just two years instead of  three ?  - - - - - - - - - - - - - - - - - - - - - - forwarded by stinson gibner / hou / ect on 09 / 20 / 2000  02 : 01 pm - - - - - - - - - - - - - - - - - - - - - - - - - - -  stinson gibner  05 / 05 / 2000 11 : 47 am  to : cindy olson / corp / enron @ enron  cc :  subject : thanks  cindy ,  i just received notification of enron \\' s match of my $ 8000 donation to the  hansford county library in spearman , texas . ( all old pipeline hands know  spearman because both northern natural and transwestern pipelines run near by  the city . )  you may be interested to know what i am trying to accomplish there . the  library is one of the few independent public libraries in the state of texas  as it is owned neither by the county nor city . it \\' s budget is met through a  combination of city , county , and private contributions . a big part of their  income comes from the \" thrift shop , \" spearman \\' s version of the blue bird  circle . in order to help the library continue to provide quality services  to the community ( our library in spearman , population 3000 , is by all  accounts much better than the one in nearby perryton , population 15000 ) , i  am trying to help the library establish an endowment fund . we have set a  goal of raising $ 100 , 000 over the next 3 years . with enron \\' s matching , i am  planning to provide about $ 80 , 000 of that amount with the other $ 20 , 000  coming from contributions from others in the local community .  i am also investigating if the library can get any type of matching grant  from other foundations , but it looks like most prefer to fund specific  projects rather than put funds towards endowments . let me know if you have  any suggestions for us .  thanks ,  stinson  x 34748', 'Subject: \" help millions \" - pledge today !  thank you for attending one of the executive breakfasts held at depelchin  children \\x01 , s center this week . seeing is believing . i hope you enjoyed seeing  first hand how the dollars you give really do make a difference .  as was mentioned in the breakfasts , it is very easy to make your contribution  this year by simply clicking on the united way link ,  http : / / unitedway . enron . com or go directly to internet explorer or netscape  and type in unitedway . enron . com in the address field . either option should  take you directly to enron \\x01 , s united way 2000 campaign site . pledge cards  will not be distributed this year , so please make your pledge electronically  - it only takes minutes !  please call me at 713 / 853 - 3264 if you have questions or have any difficulties  at all accessing the site .  thanks again ! your participation is important to the success of the campaign .', 'Subject: \" henwood \\' s rationalizing midwest power markets for the future \"  workshops  henwood announces a major new release and functional realignment of its  trading solutions software  henwood energy services , inc . ( henwood ) recently announced a major new  release of its trading and  scheduling software , and the overall realignment of its energy trading and  risk management functions into a  new , strategic lineup of products . henwood \\x01 , s established etrm and  webscheduler enerprise software  products have been re - launched into physical trading ( webscheduler ) , trade  capture and settlements  ( trademanager ) , and risk management functions ( riskreporter ) , with greatly  expanded capabilities to  more strategically meet the needs of the rapidly changing energy markets  throughout north america . the  release of the new webscheduler ( version 5 . 0 ) , combines a new henwood  scheduling version with  henwood \\x01 , s nerc tagging and iso communication functions to create a  comprehensive physical  management system .  \" the release of the version 5 webscheduler marks an exciting day , both for  henwood and for energy  companies responsible for managing financial and physical energy transactions  across north america , \"  explained derek porter , vice president - software products . \" our new product  version release and overall  product realignment clearly shows henwood \\x01 , s dedication to meet the trading  needs of today and anticipate  the challenges of tomorrow . \"  the new webscheduler is a comprehensive physical management product that  allows energy organizations  to manage physical trading issues from creation through delivery . the  software enables traders , schedulers  and other energy professionals to conduct their business of physical  scheduling , iso coordination , and  settlement in one seamless operation . some of the new features include :  - real - time price and volume change log  - standard ramp assignments  - dynamic view and form configuration for commodity volume management  - enhancements to scheduling view management  - new commodity volume management system  - show prices  - on - peak / off - peak definition  - running totals  - enhanced back - to - back / bookout function  - enhanced sub - hour function  - schedule summary page with copy function  - quicktrade capability  - grid copy / paste and export functions  henwood is offering training courses for the rollout of the physical trading  application , scheduled  throughout may in both sacramento and atlanta . dates are currently scheduled  for may 2 - 3 , 2001 in  atlanta , and may 23 - 24 , 2001 in sacramento . space is limited , so please sign  up early .  henwood offers integrated business solutions , strategic consulting , and  innovative  ebusiness applications to meet the challenges of the restructured energy  markets throughout north  america , australasia , and europe , serving clients that include eight of the  ten top utilities in north  america , in addition to energy services providers and power marketers . for  more information about  henwood \\x01 , s trading and risk management applications , please contact derek  porter at 916 - 569 - 0985  ( email : dporter @ hesinet . com ) . additional information about henwood can be  obtained by visiting  www . hesinet . com .', 'Subject: \" we are one @ enron . com ! \" : final notice .  please be aware that the following internet domains for messaging will be  decommissioned on  october 14 , 2000 :  @ ect . enron . com  @ ei . enron . com  @ enron . co . uk  after october 14 , 2000 , internet emails addressed to employees using the  above internet domain names will be no longer be delivered .  please note that this applies to enron employees worldwide .  all employees must now use their @ enron . com internet address .  some employees are still receiving internet email , primarily subscriptions to  internet - based news / update services , addressed to their @ ect . enron . com ,  @ ei . enron . com or @ enron . co . uk email address . as mails to these addresses  will no longer be delivered after october 14 , 2000 please contact the service  providers to specify your new @ enron . com internet address .  any employees who are aware of the following should contact the resolution  center on ext . 31411 immediately :  applications / processes using @ ect . enron . com , @ ei . enron . com or @ enron . co . uk  internet addresses  distribution groups being addressed via the internet using @ ect . enron . com ,  e . g . enron . london . developers @ ect . enron . com  please direct any questions to the resolution center at ext . 31411 .  thanks for your cooperation .  enron messaging administration', \"Subject: # # # # # # # # # # guaranteed $ 50 , 000 fast ! ! # # # # # # # # # #  you make a guaranteed $ 50 , 000 cash in  just 90 days !  quit your full time job in less than 3 months !  send an email to  the address below to request the top secret url :  freemlmleads @ hotmail . com  put guaranteed _ _ $ 50 , 000 _ _ cash ! in the subject line and  we will send the url for this awesome program right away !  your success is 100 % guaranteed ! join  now !  * * * * * * * * * * * * * * * * * *  * * * * * * * * * * * * * * * * * * * *  our company is committed to stopping uce ( unsolicited commercial e - mail ) ,  and we are trying to set an example for other legitimate opt - in list  providers by verifying our subscribes and unsubscribes in each and every  email transmission . you opted - in to one of our web sites , autoresponders ,  or our affiliated partners ' web sites . we are sending you this email with  your best interest in mind . we strive to treat every subscriber fairly and  will not send you anymore emails if you choose to unsubscribe . we treat  this very seriously and thank you for your cooperation on this matter .  return with remove in the subject line to bepermanently removed . \", 'Subject: $ 14 . 95 per year domain names  affordable domain registration for everyone  the new domain names are finally available to the general public at discount prices . now you can register one of the exciting new . biz or . info domain names , as well as the original . com and . net names for just $ 14 . 95 . these brand new domain extensions were recently approved by icann and have the same rights as the original . com and . net domain names . the biggest benefit is of - course that the . biz and . info domain names are currently more available . i . e . it will be much easier to register an attractive and easy - to - remember domain name for the same price . visit : http : / / www . domainsforeveryone . com / today for more info .  register your domain name today for just $ 14 . 95 at : http : / / www . domainsforeveryone . com / registration fees include full access to an easy - to - use control panel to manage your domain name in the future .  sincerely ,  domain administrator  domains for everyone  to remove your email address from further promotional mailings from this company , click here :  ( f 4 ) 5088 vukl 9 - 796 qvfq 4651 flcg 5 - 695 tl 29', 'Subject: $ 3 leads !  click here to have a representative contact you !  for additional information visit us at www . all - leads . com  all - leads . com 247 sw 8 th st . - ste . 181 miami , fl 33130 this e - mail message is an advertisement and / or solicitation . ']\n",
      "\n",
      " A list of all the numerical columns \n",
      "\n",
      "['spam'] \n",
      "\n",
      "Statistical details for the numerical columns \n",
      "               spam\n",
      "count  5728.000000\n",
      "mean      0.238827\n",
      "std       0.426404\n",
      "min       0.000000\n",
      "25%       0.000000\n",
      "50%       0.000000\n",
      "75%       0.000000\n",
      "max       1.000000\n"
     ]
    }
   ],
   "source": [
    "m.explore_df(df)"
   ]
  },
  {
   "cell_type": "code",
   "execution_count": 4,
   "metadata": {},
   "outputs": [
    {
     "data": {
      "text/plain": [
       "0    4360\n",
       "1    1368\n",
       "Name: spam, dtype: int64"
      ]
     },
     "execution_count": 4,
     "metadata": {},
     "output_type": "execute_result"
    }
   ],
   "source": [
    "df['spam'].value_counts()"
   ]
  },
  {
   "cell_type": "markdown",
   "metadata": {},
   "source": [
    "This looks like a decently balanced dataset based on how many of the messages have been marked as spam or not"
   ]
  },
  {
   "cell_type": "code",
   "execution_count": 5,
   "metadata": {},
   "outputs": [
    {
     "name": "stdout",
     "output_type": "stream",
     "text": [
      "The column(s) with all null values:  set() \n",
      "\n",
      " More than  25 % of values are null for columns  set() \n",
      "\n",
      " More than  50 % of values are null for columns  set() \n",
      "\n",
      " More than  75 % of values are null for columns  set() \n",
      "\n"
     ]
    }
   ],
   "source": [
    "m.explore_null(df)"
   ]
  },
  {
   "cell_type": "markdown",
   "metadata": {},
   "source": [
    "No columns with all null values"
   ]
  },
  {
   "cell_type": "code",
   "execution_count": 6,
   "metadata": {},
   "outputs": [],
   "source": [
    "def tokenize(text):\n",
    "    '''\n",
    "    INPUT\n",
    "    text- the text that needs to be tokenized\n",
    "    \n",
    "    OUTPUT\n",
    "    tokens - a list of tokenized words after cleaning up the input text\n",
    "    \n",
    "    This function :\n",
    "    1. converts text to all lower case and removes punctuations\n",
    "    2. tokenize entire text into words\n",
    "    2. lemmatize each word using WordNetLemmatizer\n",
    "    3. remove all stop words from text as per english corpus of stop words\n",
    "    '''\n",
    "    # normalize case and remove punctuation\n",
    "    text = re.sub(r\"[^a-zA-Z0-9]\", \" \", text.lower())\n",
    "    \n",
    "    # tokenize text\n",
    "    tokens = word_tokenize(text)\n",
    "    # initiate lemmatizer\n",
    "    lemmatizer = WordNetLemmatizer()\n",
    "    # lemmatize andremove stop words\n",
    "    tokens = [lemmatizer.lemmatize(word) for word in tokens]\n",
    "    \n",
    "    return tokens"
   ]
  },
  {
   "cell_type": "code",
   "execution_count": 7,
   "metadata": {},
   "outputs": [],
   "source": [
    "def build_model():\n",
    "    '''\n",
    "    INPUT\n",
    "    None\n",
    "    \n",
    "    OUTPUT\n",
    "    pipeline- a pipeline built to tokenize, transform and classify text data\n",
    "    \n",
    "    This function :\n",
    "    1. builds a pipeline of countvectorizer, tfidf transformer, and\n",
    "    2. a random forest multi output classifier\n",
    "    '''\n",
    "    pipeline = Pipeline([\n",
    "    ('vect', CountVectorizer(tokenizer=tokenize)),\n",
    "    ('tfidf', TfidfTransformer()),\n",
    "    ('clf', LinearSVC()),\n",
    "    ])\n",
    "    \n",
    "    # below parameters have been selected keeping the model training time in mind\n",
    "    # these can be modified to improve accuracy and precision\n",
    "   \n",
    "    parameters = {\n",
    "              'clf__C':[0.1,1.0]\n",
    "              }\n",
    "    \n",
    "    cv = GridSearchCV(pipeline, param_grid=parameters)\n",
    "    return cv"
   ]
  },
  {
   "cell_type": "code",
   "execution_count": 8,
   "metadata": {},
   "outputs": [],
   "source": [
    "def evaluate_model(model, X_test, Y_test):\n",
    "    '''\n",
    "    INPUT\n",
    "    model : the model that needs to be evaluated\n",
    "    X_test : validation data set i.e. messages in this case\n",
    "    Y_test : the output data for X_test validation set i.e. 36 categories values\n",
    "    category_names : the 36 category names\n",
    "    \n",
    "    OUTPUT\n",
    "    classification report for the model based on predictions, gives\n",
    "    the recall, precision and f1 score\n",
    "    \n",
    "    This function :\n",
    "    1. utilizes the input model to make predictions\n",
    "    2. compares the predictions to the test data to provide a classification report\n",
    "    '''\n",
    "    y_pred = model.predict(X_test)\n",
    "    print(classification_report(Y_test, y_pred))"
   ]
  },
  {
   "cell_type": "code",
   "execution_count": 9,
   "metadata": {},
   "outputs": [
    {
     "data": {
      "text/plain": [
       "[\"Subject: naturally irresistible your corporate identity  lt is really hard to recollect a company : the  market is full of suqgestions and the information isoverwhelminq ; but a good  catchy logo , stylish statlonery and outstanding website  will make the task much easier .  we do not promise that havinq ordered a iogo your  company will automaticaily become a world ieader : it isguite ciear that  without good products , effective business organization and practicable aim it  will be hotat nowadays market ; but we do promise that your marketing efforts  will become much more effective . here is the list of clear  benefits : creativeness : hand - made , original logos , specially done  to reflect your distinctive company image . convenience : logo and stationery  are provided in all formats ; easy - to - use content management system letsyou  change your website content and even its structure . promptness : you  will see logo drafts within three business days . affordability : your  marketing break - through shouldn ' t make gaps in your budget . 100 % satisfaction  guaranteed : we provide unlimited amount of changes with no extra fees for you to  be surethat you will love the result of this collaboration . have a look at our  portfolio _ _ _ _ _ _ _ _ _ _ _ _ _ _ _ _ _ _ _ _ _ _ _ _ _ _ _ _ _ _ _ _ _ _ _ _ _ _ _ _ _ _ _ _ _ _ _ _ _ _ _ _ not interested . . . _ _ _ _ _ _ _ _ _ _ _ _ _ _ _ _ _ _ _ _ _ _ _ _ _ _ _ _ _ _ _ _ _ _ _ _ _ _ _ _ _ _ _ _ _ _ _ _ _ _ _ _\"]"
      ]
     },
     "execution_count": 9,
     "metadata": {},
     "output_type": "execute_result"
    }
   ],
   "source": [
    "df['text'].head(1).to_list()"
   ]
  },
  {
   "cell_type": "code",
   "execution_count": 10,
   "metadata": {},
   "outputs": [],
   "source": [
    "X= df['text']\n",
    "Y= df['spam']\n",
    "\n",
    "X_train, X_test, Y_train, Y_test = train_test_split(X, Y, test_size=0.2)"
   ]
  },
  {
   "cell_type": "code",
   "execution_count": 11,
   "metadata": {},
   "outputs": [
    {
     "name": "stdout",
     "output_type": "stream",
     "text": [
      "Building model...\n"
     ]
    }
   ],
   "source": [
    "print('Building model...')\n",
    "model = build_model()"
   ]
  },
  {
   "cell_type": "code",
   "execution_count": 12,
   "metadata": {},
   "outputs": [
    {
     "name": "stdout",
     "output_type": "stream",
     "text": [
      "Training model...\n",
      "Training time...4.2 minutes\n"
     ]
    }
   ],
   "source": [
    "print('Training model...')\n",
    "start_time = time.time()\n",
    "model.fit(X_train, Y_train)\n",
    "elapsed_time = round((time.time() - start_time)/60 , 2)\n",
    "print('Training time...{} minutes'.format(elapsed_time))        "
   ]
  },
  {
   "cell_type": "code",
   "execution_count": 13,
   "metadata": {},
   "outputs": [
    {
     "data": {
      "image/png": "[encoded data removed]",
      "text/plain": [
       "<Figure size 432x288 with 1 Axes>"
      ]
     },
     "metadata": {},
     "output_type": "display_data"
    }
   ],
   "source": [
    "plot_precision_recall_curve(model, X_test, Y_test)\n",
    "\n",
    "# display the plots\n",
    "plt.show()"
   ]
  },
  {
   "cell_type": "code",
   "execution_count": 14,
   "metadata": {},
   "outputs": [
    {
     "name": "stdout",
     "output_type": "stream",
     "text": [
      "Evaluating model...\n",
      "              precision    recall  f1-score   support\n",
      "\n",
      "           0       1.00      1.00      1.00       873\n",
      "           1       1.00      0.99      0.99       273\n",
      "\n",
      "    accuracy                           1.00      1146\n",
      "   macro avg       1.00      0.99      1.00      1146\n",
      "weighted avg       1.00      1.00      1.00      1146\n",
      "\n"
     ]
    }
   ],
   "source": [
    "print('Evaluating model...')\n",
    "evaluate_model(model, X_test, Y_test)"
   ]
  },
  {
   "cell_type": "code",
   "execution_count": 15,
   "metadata": {},
   "outputs": [
    {
     "data": {
      "text/plain": [
       "array([1])"
      ]
     },
     "execution_count": 15,
     "metadata": {},
     "output_type": "execute_result"
    }
   ],
   "source": [
    "model.predict(X_test[:1])"
   ]
  }
 ],
 "metadata": {
  "kernelspec": {
   "display_name": "Python 3",
   "language": "python",
   "name": "python3"
  },
  "language_info": {
   "codemirror_mode": {
    "name": "ipython",
    "version": 3
   },
   "file_extension": ".py",
   "mimetype": "text/x-python",
   "name": "python",
   "nbconvert_exporter": "python",
   "pygments_lexer": "ipython3",
   "version": "3.6.6"
  }
 },
 "nbformat": 4,
 "nbformat_minor": 4
}
